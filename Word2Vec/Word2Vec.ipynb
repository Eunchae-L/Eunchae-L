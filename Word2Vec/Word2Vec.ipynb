{
  "nbformat": 4,
  "nbformat_minor": 0,
  "metadata": {
    "colab": {
      "name": "Untitled14.ipynb",
      "provenance": [],
      "authorship_tag": "ABX9TyNz73zGzVU3BQvEjcxJ5dL2",
      "include_colab_link": true
    },
    "kernelspec": {
      "name": "python3",
      "display_name": "Python 3"
    },
    "language_info": {
      "name": "python"
    }
  },
  "cells": [
    {
      "cell_type": "markdown",
      "metadata": {
        "id": "view-in-github",
        "colab_type": "text"
      },
      "source": [
        "<a href=\"https://colab.research.google.com/github/Eunchae-L/Eunchae-L/blob/main/Word2Vec.ipynb\" target=\"_parent\"><img src=\"https://colab.research.google.com/assets/colab-badge.svg\" alt=\"Open In Colab\"/></a>"
      ]
    },
    {
      "cell_type": "code",
      "source": [
        "!pip install konlpy"
      ],
      "metadata": {
        "colab": {
          "base_uri": "https://localhost:8080/"
        },
        "id": "cMgTHbC5kAQc",
        "outputId": "c54ae768-92d3-4fba-ac78-a515c4db9948"
      },
      "execution_count": 12,
      "outputs": [
        {
          "output_type": "stream",
          "name": "stdout",
          "text": [
            "Looking in indexes: https://pypi.org/simple, https://us-python.pkg.dev/colab-wheels/public/simple/\n",
            "Collecting konlpy\n",
            "  Downloading konlpy-0.6.0-py2.py3-none-any.whl (19.4 MB)\n",
            "\u001b[K     |████████████████████████████████| 19.4 MB 1.2 MB/s \n",
            "\u001b[?25hRequirement already satisfied: numpy>=1.6 in /usr/local/lib/python3.7/dist-packages (from konlpy) (1.21.6)\n",
            "Requirement already satisfied: lxml>=4.1.0 in /usr/local/lib/python3.7/dist-packages (from konlpy) (4.9.1)\n",
            "Collecting JPype1>=0.7.0\n",
            "  Downloading JPype1-1.4.0-cp37-cp37m-manylinux_2_5_x86_64.manylinux1_x86_64.whl (453 kB)\n",
            "\u001b[K     |████████████████████████████████| 453 kB 56.3 MB/s \n",
            "\u001b[?25hRequirement already satisfied: typing-extensions in /usr/local/lib/python3.7/dist-packages (from JPype1>=0.7.0->konlpy) (4.1.1)\n",
            "Installing collected packages: JPype1, konlpy\n",
            "Successfully installed JPype1-1.4.0 konlpy-0.6.0\n"
          ]
        }
      ]
    },
    {
      "cell_type": "code",
      "source": [
        "import pandas as pd\n",
        "import matplotlib.pyplot as plt\n",
        "import numpy as np\n",
        "from gensim.models.word2vec import Word2Vec\n",
        "from konlpy.tag import Okt"
      ],
      "metadata": {
        "id": "ArA4pJZWgAw6"
      },
      "execution_count": 43,
      "outputs": []
    },
    {
      "cell_type": "code",
      "source": [
        "blue = pd.read_csv('/content/청와대(전처리).csv', encoding = 'utf-8')\n",
        "blue = blue.dropna(axis = 0)\n",
        "blue.head(3)"
      ],
      "metadata": {
        "colab": {
          "base_uri": "https://localhost:8080/",
          "height": 274
        },
        "id": "ffDUiRz5gCQt",
        "outputId": "b63a7f3a-4d65-4379-c711-f1a31b33d5d9"
      },
      "execution_count": 24,
      "outputs": [
        {
          "output_type": "execute_result",
          "data": {
            "text/plain": [
              "                                               title  count   categ  \\\n",
              "0  서울지방병무청 탈의실에 설치된 CCTV에 대한 진상규명을 요구한다. 또한 인권위의 ...    267  인권/성평등   \n",
              "1                            주식시장 활성화 및 소액(개미)투자자 보호    271   경제민주화   \n",
              "2                                           교정기관의 민낮    198      행정   \n",
              "\n",
              "        start                                               text  \n",
              "0  2020-01-02  ['본인', '서울', '지방', '병무청', '검사장', '탈의실', '발견', ...  \n",
              "1  2020-01-02  ['우리', '나라', '코스', '미국', '애플', '한국', '주식', '시장...  \n",
              "2  2020-01-02  ['억울', '국민', '신청', '구치소', '교도관', '이주', '구치소', ...  "
            ],
            "text/html": [
              "\n",
              "  <div id=\"df-944a68bd-3f61-4ed9-a829-2aa0ed468d8c\">\n",
              "    <div class=\"colab-df-container\">\n",
              "      <div>\n",
              "<style scoped>\n",
              "    .dataframe tbody tr th:only-of-type {\n",
              "        vertical-align: middle;\n",
              "    }\n",
              "\n",
              "    .dataframe tbody tr th {\n",
              "        vertical-align: top;\n",
              "    }\n",
              "\n",
              "    .dataframe thead th {\n",
              "        text-align: right;\n",
              "    }\n",
              "</style>\n",
              "<table border=\"1\" class=\"dataframe\">\n",
              "  <thead>\n",
              "    <tr style=\"text-align: right;\">\n",
              "      <th></th>\n",
              "      <th>title</th>\n",
              "      <th>count</th>\n",
              "      <th>categ</th>\n",
              "      <th>start</th>\n",
              "      <th>text</th>\n",
              "    </tr>\n",
              "  </thead>\n",
              "  <tbody>\n",
              "    <tr>\n",
              "      <th>0</th>\n",
              "      <td>서울지방병무청 탈의실에 설치된 CCTV에 대한 진상규명을 요구한다. 또한 인권위의 ...</td>\n",
              "      <td>267</td>\n",
              "      <td>인권/성평등</td>\n",
              "      <td>2020-01-02</td>\n",
              "      <td>['본인', '서울', '지방', '병무청', '검사장', '탈의실', '발견', ...</td>\n",
              "    </tr>\n",
              "    <tr>\n",
              "      <th>1</th>\n",
              "      <td>주식시장 활성화 및 소액(개미)투자자 보호</td>\n",
              "      <td>271</td>\n",
              "      <td>경제민주화</td>\n",
              "      <td>2020-01-02</td>\n",
              "      <td>['우리', '나라', '코스', '미국', '애플', '한국', '주식', '시장...</td>\n",
              "    </tr>\n",
              "    <tr>\n",
              "      <th>2</th>\n",
              "      <td>교정기관의 민낮</td>\n",
              "      <td>198</td>\n",
              "      <td>행정</td>\n",
              "      <td>2020-01-02</td>\n",
              "      <td>['억울', '국민', '신청', '구치소', '교도관', '이주', '구치소', ...</td>\n",
              "    </tr>\n",
              "  </tbody>\n",
              "</table>\n",
              "</div>\n",
              "      <button class=\"colab-df-convert\" onclick=\"convertToInteractive('df-944a68bd-3f61-4ed9-a829-2aa0ed468d8c')\"\n",
              "              title=\"Convert this dataframe to an interactive table.\"\n",
              "              style=\"display:none;\">\n",
              "        \n",
              "  <svg xmlns=\"http://www.w3.org/2000/svg\" height=\"24px\"viewBox=\"0 0 24 24\"\n",
              "       width=\"24px\">\n",
              "    <path d=\"M0 0h24v24H0V0z\" fill=\"none\"/>\n",
              "    <path d=\"M18.56 5.44l.94 2.06.94-2.06 2.06-.94-2.06-.94-.94-2.06-.94 2.06-2.06.94zm-11 1L8.5 8.5l.94-2.06 2.06-.94-2.06-.94L8.5 2.5l-.94 2.06-2.06.94zm10 10l.94 2.06.94-2.06 2.06-.94-2.06-.94-.94-2.06-.94 2.06-2.06.94z\"/><path d=\"M17.41 7.96l-1.37-1.37c-.4-.4-.92-.59-1.43-.59-.52 0-1.04.2-1.43.59L10.3 9.45l-7.72 7.72c-.78.78-.78 2.05 0 2.83L4 21.41c.39.39.9.59 1.41.59.51 0 1.02-.2 1.41-.59l7.78-7.78 2.81-2.81c.8-.78.8-2.07 0-2.86zM5.41 20L4 18.59l7.72-7.72 1.47 1.35L5.41 20z\"/>\n",
              "  </svg>\n",
              "      </button>\n",
              "      \n",
              "  <style>\n",
              "    .colab-df-container {\n",
              "      display:flex;\n",
              "      flex-wrap:wrap;\n",
              "      gap: 12px;\n",
              "    }\n",
              "\n",
              "    .colab-df-convert {\n",
              "      background-color: #E8F0FE;\n",
              "      border: none;\n",
              "      border-radius: 50%;\n",
              "      cursor: pointer;\n",
              "      display: none;\n",
              "      fill: #1967D2;\n",
              "      height: 32px;\n",
              "      padding: 0 0 0 0;\n",
              "      width: 32px;\n",
              "    }\n",
              "\n",
              "    .colab-df-convert:hover {\n",
              "      background-color: #E2EBFA;\n",
              "      box-shadow: 0px 1px 2px rgba(60, 64, 67, 0.3), 0px 1px 3px 1px rgba(60, 64, 67, 0.15);\n",
              "      fill: #174EA6;\n",
              "    }\n",
              "\n",
              "    [theme=dark] .colab-df-convert {\n",
              "      background-color: #3B4455;\n",
              "      fill: #D2E3FC;\n",
              "    }\n",
              "\n",
              "    [theme=dark] .colab-df-convert:hover {\n",
              "      background-color: #434B5C;\n",
              "      box-shadow: 0px 1px 3px 1px rgba(0, 0, 0, 0.15);\n",
              "      filter: drop-shadow(0px 1px 2px rgba(0, 0, 0, 0.3));\n",
              "      fill: #FFFFFF;\n",
              "    }\n",
              "  </style>\n",
              "\n",
              "      <script>\n",
              "        const buttonEl =\n",
              "          document.querySelector('#df-944a68bd-3f61-4ed9-a829-2aa0ed468d8c button.colab-df-convert');\n",
              "        buttonEl.style.display =\n",
              "          google.colab.kernel.accessAllowed ? 'block' : 'none';\n",
              "\n",
              "        async function convertToInteractive(key) {\n",
              "          const element = document.querySelector('#df-944a68bd-3f61-4ed9-a829-2aa0ed468d8c');\n",
              "          const dataTable =\n",
              "            await google.colab.kernel.invokeFunction('convertToInteractive',\n",
              "                                                     [key], {});\n",
              "          if (!dataTable) return;\n",
              "\n",
              "          const docLinkHtml = 'Like what you see? Visit the ' +\n",
              "            '<a target=\"_blank\" href=https://colab.research.google.com/notebooks/data_table.ipynb>data table notebook</a>'\n",
              "            + ' to learn more about interactive tables.';\n",
              "          element.innerHTML = '';\n",
              "          dataTable['output_type'] = 'display_data';\n",
              "          await google.colab.output.renderOutput(dataTable, element);\n",
              "          const docLink = document.createElement('div');\n",
              "          docLink.innerHTML = docLinkHtml;\n",
              "          element.appendChild(docLink);\n",
              "        }\n",
              "      </script>\n",
              "    </div>\n",
              "  </div>\n",
              "  "
            ]
          },
          "metadata": {},
          "execution_count": 24
        }
      ]
    },
    {
      "cell_type": "code",
      "source": [
        "print(len(blue))"
      ],
      "metadata": {
        "colab": {
          "base_uri": "https://localhost:8080/"
        },
        "id": "zXpjN0QgkPcb",
        "outputId": "00e56683-7ab9-4e4b-cf87-42e19834ebec"
      },
      "execution_count": 17,
      "outputs": [
        {
          "output_type": "stream",
          "name": "stdout",
          "text": [
            "15296\n"
          ]
        }
      ]
    },
    {
      "cell_type": "code",
      "source": [
        "tokenized_data = []\n",
        "for word in blue['text']:\n",
        "  tokenized_data.append(word)\n",
        "\n",
        "tokenized_data[:1]"
      ],
      "metadata": {
        "colab": {
          "base_uri": "https://localhost:8080/"
        },
        "id": "DKlD_0VylRN7",
        "outputId": "c806bd9b-0303-4041-9047-e03d9f5cd2b2"
      },
      "execution_count": 37,
      "outputs": [
        {
          "output_type": "execute_result",
          "data": {
            "text/plain": [
              "[\"['본인', '서울', '지방', '병무청', '검사장', '탈의실', '발견', '탈의실', '천장', 'CCTV', '발견', '본인', '경악', '탈의실', 'CCTV', '설치', '개인', '정보', '보호법', '위반', '사안', '심각', '법적', '문제', '촬영', '다면', '성폭력', '범죄', '처벌', '특례법', '위반', '기도', '하다', '법적', '문제', '개인', '자유', '침해', '성적', '수치심', '불러일으키', '매우', '심각', '윤리적', '문제', '이렇', '불법', '카메라', '자체', '굉장히', '심각', '문제', '그런데', '공공', '기관', '탈의실', '불법', '윤리적', '카메라', '설치', '이르', '영하', '을지', '모르', '상황', '발생', '도대체', '한국', '정부', '인권', '무엇', '생각', 'ㄴ가', '발견', '직후', '인권위', '진정', '인권위', '현재', '조사', '진행', '어떻', '어떠하', '답변', '병무청', '어떠하', '답변', '이상', '답변', '기다리', '의미', '없다', '생각', '본인', '커뮤니티', '사실', '알리', '이슈', '병무청', '설치', '운영', '대답', '내놓', '조사', '경과', '발표', '사과', '책임', '대응', '전혀', '보여주', '개인', '자유', '권리', '본질적', '침해', '강제', '징집', '국제', '노동', '기구', '인정', '강제', '징용', '강제', '노동', '당하', '남성', '국가', '신체', '감시', '당하', '사건', '한국', '정부', '병역', '무자', '인권', '없다', '생각', '언제', '국가', '개인', '노예', '취급', 'ㄴ가', '안되', '시급', '강제', '폭력', '부리', '모자', '이제', '어처구니', '일어나', '경악', '본인', '사실', '강력히', '규탄', '아래', '대응', '요구', '서울', '지방', '병무청', '징병', '검사소', '탈의실', 'CCTV', '설치', '경위', '운영', '여부', '관리', '내역', '낱낱이', '조사', '진상', '밝히', '병무청', '장과', '서울', '지방', '병무', '청장', '사건', '책임', '사퇴', '자진', '사퇴', '거부', '정부', '파면', '사건', '책임자', '담당자', '처벌', '병무', '정장', '명의', '사과', '병무청', '사이트', '비롯', '온라인', '전국', '신체', '검사소', '올리', '신체검사', '대상', '사과', '사과', '조사', '경과', '언론', '배포', '어떠하', '이유', '인권', '민원', '무시', '태만', '조사', '책임자', '문책', '병무청', 'CCTV', '제보자', '민원인', '보복', '감시', '제보자', '민원인', '적극적', '보호', '한국', '정부', '남성', '강제', '징집', '강제', '노동', '최저', '임금', '이상', '시급', '지급', '빠르', '시일', '현재', '징병제', '개혁', '강제', '징집', '강제', '징용', '강제', '노동', '폐지', '지금', '강제적', '끌려가', '피해를', '당한', '당사자', '사과', '합당', '피해', '보상금', '제공', '각주', '개인', '정보', '보호법', '제조', '제조', '영상', '정보', '처리', '기기', '설치', '운영', '제한', '누구', '든지', '불특정', '다수', '이용', '목욕실', '화장실', '탈의실', '개인', '사생활', '현저히', '침해', '우려', '장소', '내부', '영상', '정보', '처리', '기기', '설치', '운영', '여서', '다만', '교도소', '정신', '보건', '시설', '법령', '근거', '사람', '구금', '보호', '시설', '로서', '대통령령', '정하', '시설', '그러하', '아니하', '각주', '개인', '정보', '보호법', '제조', '과태료', '다음', '호의', '어느', '하나', '해당', '천만', '이하', '과태료', '부과', '제조', '제항', '위반', '영상', '정보', '처리', '기기', '설치', '운영', '각주', '성폭력', '범죄', '처벌', '특례법', '제조', '카메라', '이용', '촬영', '카메라', '유사', '기능', '갖추', '기계', '장치', '이용', '성적', '욕망', '수치심', '유발', '사람', '신체', '촬영', '대상자', '의사', '반하', '촬영', '이하', '징역', '천만', '이하', '벌금', '처하', '개정', '각주', '국제', '노동', '기구', '제호', '강제', '근로', '협약', '제호', '강제', '근로', '폐지', '협약', '제호', '정치적', '견해', '기존', '정치', '사회', '경제', '제도', '사상적', '반대', '견해', '가지', '발표', '제재', '정치적', '억압', '교육', '수단', '경제', '발전', '목적', '노동력', '동원', '이용', '노동', '규제', '수단', '파업', '참가', '제재', '인종적', '사회적', '민족적', '종교적', '차별', '대우', '수단']\"]"
            ]
          },
          "metadata": {},
          "execution_count": 37
        }
      ]
    },
    {
      "cell_type": "code",
      "source": [
        "from gensim.models import Word2Vec\n",
        "model = Word2Vec(sentences = tokenized_data, size = 100, window = 5, min_count = 5, workers = 4, sg = 0)"
      ],
      "metadata": {
        "colab": {
          "base_uri": "https://localhost:8080/"
        },
        "id": "rJRh0cAQnZmQ",
        "outputId": "e8cb7567-6dcd-435f-f948-033e408e50b3"
      },
      "execution_count": 38,
      "outputs": [
        {
          "output_type": "stream",
          "name": "stderr",
          "text": [
            "WARNING:gensim.models.word2vec:Each 'sentences' item should be a list of words (usually unicode strings). First item here is instead plain <class 'str'>.\n"
          ]
        }
      ]
    },
    {
      "cell_type": "code",
      "source": [
        "model.wv.vectors.shape"
      ],
      "metadata": {
        "colab": {
          "base_uri": "https://localhost:8080/"
        },
        "id": "ms9LXbAbp-ut",
        "outputId": "37da026e-041a-4be6-fedb-6c1e082c3d26"
      },
      "execution_count": 39,
      "outputs": [
        {
          "output_type": "execute_result",
          "data": {
            "text/plain": [
              "(1432, 100)"
            ]
          },
          "metadata": {},
          "execution_count": 39
        }
      ]
    },
    {
      "cell_type": "code",
      "source": [
        "word2vec_blue = model.wv\n",
        "\n",
        "print(word2vec_blue.key_to_index['슬픔'])"
      ],
      "metadata": {
        "colab": {
          "base_uri": "https://localhost:8080/",
          "height": 209
        },
        "id": "_EQhrPoXqB2x",
        "outputId": "907a1ec4-99bd-497a-a63b-d7000acfafe7"
      },
      "execution_count": 46,
      "outputs": [
        {
          "output_type": "error",
          "ename": "AttributeError",
          "evalue": "ignored",
          "traceback": [
            "\u001b[0;31m---------------------------------------------------------------------------\u001b[0m",
            "\u001b[0;31mAttributeError\u001b[0m                            Traceback (most recent call last)",
            "\u001b[0;32m<ipython-input-46-a60ac0d5f122>\u001b[0m in \u001b[0;36m<module>\u001b[0;34m\u001b[0m\n\u001b[1;32m      1\u001b[0m \u001b[0mword2vec_blue\u001b[0m \u001b[0;34m=\u001b[0m \u001b[0mmodel\u001b[0m\u001b[0;34m.\u001b[0m\u001b[0mwv\u001b[0m\u001b[0;34m\u001b[0m\u001b[0;34m\u001b[0m\u001b[0m\n\u001b[1;32m      2\u001b[0m \u001b[0;34m\u001b[0m\u001b[0m\n\u001b[0;32m----> 3\u001b[0;31m \u001b[0mprint\u001b[0m\u001b[0;34m(\u001b[0m\u001b[0mword2vec_blue\u001b[0m\u001b[0;34m.\u001b[0m\u001b[0mkey_to_index\u001b[0m\u001b[0;34m[\u001b[0m\u001b[0;34m'슬픔'\u001b[0m\u001b[0;34m]\u001b[0m\u001b[0;34m)\u001b[0m\u001b[0;34m\u001b[0m\u001b[0;34m\u001b[0m\u001b[0m\n\u001b[0m",
            "\u001b[0;31mAttributeError\u001b[0m: 'Word2VecKeyedVectors' object has no attribute 'key_to_index'"
          ]
        }
      ]
    }
  ]
}
