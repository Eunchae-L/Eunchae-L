{
  "nbformat": 4,
  "nbformat_minor": 0,
  "metadata": {
    "colab": {
      "name": "Multi Regression + Log Transformation",
      "provenance": [],
      "authorship_tag": "ABX9TyPhhRnpiC9MYITw+puWb2mw",
      "include_colab_link": true
    },
    "kernelspec": {
      "name": "python3",
      "display_name": "Python 3"
    },
    "language_info": {
      "name": "python"
    }
  },
  "cells": [
    {
      "cell_type": "markdown",
      "metadata": {
        "id": "view-in-github",
        "colab_type": "text"
      },
      "source": [
        "<a href=\"https://colab.research.google.com/github/Eunchae-L/Eunchae-L/blob/main/Multi_Regression_%2B_Log_Transformation.ipynb\" target=\"_parent\"><img src=\"https://colab.research.google.com/assets/colab-badge.svg\" alt=\"Open In Colab\"/></a>"
      ]
    },
    {
      "cell_type": "code",
      "source": [
        "import pandas as pd\n",
        "import numpy as np\n",
        "import statsmodels.api as sm\n",
        "import matplotlib.pyplot as plt\n",
        "import matplotlib as mol\n",
        "import seaborn as sns"
      ],
      "metadata": {
        "id": "n-RLTEAVEf9V"
      },
      "execution_count": 33,
      "outputs": []
    },
    {
      "cell_type": "markdown",
      "source": [
        "데이터 불러오기"
      ],
      "metadata": {
        "id": "RfEFbls3WTS0"
      }
    },
    {
      "cell_type": "code",
      "source": [
        "blue = pd.read_csv('/content/청와대_final(2).csv')\n",
        "blue.head(3)"
      ],
      "metadata": {
        "colab": {
          "base_uri": "https://localhost:8080/",
          "height": 723
        },
        "id": "OmcxCO2QElRw",
        "outputId": "5107ebba-1d90-48c0-8087-c97b809b2760"
      },
      "execution_count": 34,
      "outputs": [
        {
          "output_type": "execute_result",
          "data": {
            "text/plain": [
              "                                               title  count   categ  \\\n",
              "0  서울지방병무청 탈의실에 설치된 CCTV에 대한 진상규명을 요구한다. 또한 인권위의 ...    267  인권/성평등   \n",
              "1                            주식시장 활성화 및 소액(개미)투자자 보호    271   경제민주화   \n",
              "2                                           교정기관의 민낮    198      행정   \n",
              "\n",
              "                 start   sadness     anger  topic__0  topic__1  topic__2  \\\n",
              "0  2020-01-02 00:00:00 -0.019507  0.021842         0         0         0   \n",
              "1  2020-01-02 00:00:00  0.004787  0.022918         0         0         0   \n",
              "2  2020-01-02 00:00:00  0.052524 -0.010585         0         0         0   \n",
              "\n",
              "   topic__3  ...  topic__20  topic__21  topic__22  topic__23  topic__24  \\\n",
              "0         0  ...          0          0          0          0          0   \n",
              "1         0  ...          0          0          0          0          1   \n",
              "2         0  ...          0          0          0          0          0   \n",
              "\n",
              "   topic__25  topic__26  topic__27  topic__28  topic__29  \n",
              "0          0          0          0          0          0  \n",
              "1          0          0          0          0          0  \n",
              "2          0          0          0          0          0  \n",
              "\n",
              "[3 rows x 36 columns]"
            ],
            "text/html": [
              "\n",
              "  <div id=\"df-82be0f17-b6e8-4ecd-8f1f-a5c1daecb3fa\">\n",
              "    <div class=\"colab-df-container\">\n",
              "      <div>\n",
              "<style scoped>\n",
              "    .dataframe tbody tr th:only-of-type {\n",
              "        vertical-align: middle;\n",
              "    }\n",
              "\n",
              "    .dataframe tbody tr th {\n",
              "        vertical-align: top;\n",
              "    }\n",
              "\n",
              "    .dataframe thead th {\n",
              "        text-align: right;\n",
              "    }\n",
              "</style>\n",
              "<table border=\"1\" class=\"dataframe\">\n",
              "  <thead>\n",
              "    <tr style=\"text-align: right;\">\n",
              "      <th></th>\n",
              "      <th>title</th>\n",
              "      <th>count</th>\n",
              "      <th>categ</th>\n",
              "      <th>start</th>\n",
              "      <th>sadness</th>\n",
              "      <th>anger</th>\n",
              "      <th>topic__0</th>\n",
              "      <th>topic__1</th>\n",
              "      <th>topic__2</th>\n",
              "      <th>topic__3</th>\n",
              "      <th>...</th>\n",
              "      <th>topic__20</th>\n",
              "      <th>topic__21</th>\n",
              "      <th>topic__22</th>\n",
              "      <th>topic__23</th>\n",
              "      <th>topic__24</th>\n",
              "      <th>topic__25</th>\n",
              "      <th>topic__26</th>\n",
              "      <th>topic__27</th>\n",
              "      <th>topic__28</th>\n",
              "      <th>topic__29</th>\n",
              "    </tr>\n",
              "  </thead>\n",
              "  <tbody>\n",
              "    <tr>\n",
              "      <th>0</th>\n",
              "      <td>서울지방병무청 탈의실에 설치된 CCTV에 대한 진상규명을 요구한다. 또한 인권위의 ...</td>\n",
              "      <td>267</td>\n",
              "      <td>인권/성평등</td>\n",
              "      <td>2020-01-02 00:00:00</td>\n",
              "      <td>-0.019507</td>\n",
              "      <td>0.021842</td>\n",
              "      <td>0</td>\n",
              "      <td>0</td>\n",
              "      <td>0</td>\n",
              "      <td>0</td>\n",
              "      <td>...</td>\n",
              "      <td>0</td>\n",
              "      <td>0</td>\n",
              "      <td>0</td>\n",
              "      <td>0</td>\n",
              "      <td>0</td>\n",
              "      <td>0</td>\n",
              "      <td>0</td>\n",
              "      <td>0</td>\n",
              "      <td>0</td>\n",
              "      <td>0</td>\n",
              "    </tr>\n",
              "    <tr>\n",
              "      <th>1</th>\n",
              "      <td>주식시장 활성화 및 소액(개미)투자자 보호</td>\n",
              "      <td>271</td>\n",
              "      <td>경제민주화</td>\n",
              "      <td>2020-01-02 00:00:00</td>\n",
              "      <td>0.004787</td>\n",
              "      <td>0.022918</td>\n",
              "      <td>0</td>\n",
              "      <td>0</td>\n",
              "      <td>0</td>\n",
              "      <td>0</td>\n",
              "      <td>...</td>\n",
              "      <td>0</td>\n",
              "      <td>0</td>\n",
              "      <td>0</td>\n",
              "      <td>0</td>\n",
              "      <td>1</td>\n",
              "      <td>0</td>\n",
              "      <td>0</td>\n",
              "      <td>0</td>\n",
              "      <td>0</td>\n",
              "      <td>0</td>\n",
              "    </tr>\n",
              "    <tr>\n",
              "      <th>2</th>\n",
              "      <td>교정기관의 민낮</td>\n",
              "      <td>198</td>\n",
              "      <td>행정</td>\n",
              "      <td>2020-01-02 00:00:00</td>\n",
              "      <td>0.052524</td>\n",
              "      <td>-0.010585</td>\n",
              "      <td>0</td>\n",
              "      <td>0</td>\n",
              "      <td>0</td>\n",
              "      <td>0</td>\n",
              "      <td>...</td>\n",
              "      <td>0</td>\n",
              "      <td>0</td>\n",
              "      <td>0</td>\n",
              "      <td>0</td>\n",
              "      <td>0</td>\n",
              "      <td>0</td>\n",
              "      <td>0</td>\n",
              "      <td>0</td>\n",
              "      <td>0</td>\n",
              "      <td>0</td>\n",
              "    </tr>\n",
              "  </tbody>\n",
              "</table>\n",
              "<p>3 rows × 36 columns</p>\n",
              "</div>\n",
              "      <button class=\"colab-df-convert\" onclick=\"convertToInteractive('df-82be0f17-b6e8-4ecd-8f1f-a5c1daecb3fa')\"\n",
              "              title=\"Convert this dataframe to an interactive table.\"\n",
              "              style=\"display:none;\">\n",
              "        \n",
              "  <svg xmlns=\"http://www.w3.org/2000/svg\" height=\"24px\"viewBox=\"0 0 24 24\"\n",
              "       width=\"24px\">\n",
              "    <path d=\"M0 0h24v24H0V0z\" fill=\"none\"/>\n",
              "    <path d=\"M18.56 5.44l.94 2.06.94-2.06 2.06-.94-2.06-.94-.94-2.06-.94 2.06-2.06.94zm-11 1L8.5 8.5l.94-2.06 2.06-.94-2.06-.94L8.5 2.5l-.94 2.06-2.06.94zm10 10l.94 2.06.94-2.06 2.06-.94-2.06-.94-.94-2.06-.94 2.06-2.06.94z\"/><path d=\"M17.41 7.96l-1.37-1.37c-.4-.4-.92-.59-1.43-.59-.52 0-1.04.2-1.43.59L10.3 9.45l-7.72 7.72c-.78.78-.78 2.05 0 2.83L4 21.41c.39.39.9.59 1.41.59.51 0 1.02-.2 1.41-.59l7.78-7.78 2.81-2.81c.8-.78.8-2.07 0-2.86zM5.41 20L4 18.59l7.72-7.72 1.47 1.35L5.41 20z\"/>\n",
              "  </svg>\n",
              "      </button>\n",
              "      \n",
              "  <style>\n",
              "    .colab-df-container {\n",
              "      display:flex;\n",
              "      flex-wrap:wrap;\n",
              "      gap: 12px;\n",
              "    }\n",
              "\n",
              "    .colab-df-convert {\n",
              "      background-color: #E8F0FE;\n",
              "      border: none;\n",
              "      border-radius: 50%;\n",
              "      cursor: pointer;\n",
              "      display: none;\n",
              "      fill: #1967D2;\n",
              "      height: 32px;\n",
              "      padding: 0 0 0 0;\n",
              "      width: 32px;\n",
              "    }\n",
              "\n",
              "    .colab-df-convert:hover {\n",
              "      background-color: #E2EBFA;\n",
              "      box-shadow: 0px 1px 2px rgba(60, 64, 67, 0.3), 0px 1px 3px 1px rgba(60, 64, 67, 0.15);\n",
              "      fill: #174EA6;\n",
              "    }\n",
              "\n",
              "    [theme=dark] .colab-df-convert {\n",
              "      background-color: #3B4455;\n",
              "      fill: #D2E3FC;\n",
              "    }\n",
              "\n",
              "    [theme=dark] .colab-df-convert:hover {\n",
              "      background-color: #434B5C;\n",
              "      box-shadow: 0px 1px 3px 1px rgba(0, 0, 0, 0.15);\n",
              "      filter: drop-shadow(0px 1px 2px rgba(0, 0, 0, 0.3));\n",
              "      fill: #FFFFFF;\n",
              "    }\n",
              "  </style>\n",
              "\n",
              "      <script>\n",
              "        const buttonEl =\n",
              "          document.querySelector('#df-82be0f17-b6e8-4ecd-8f1f-a5c1daecb3fa button.colab-df-convert');\n",
              "        buttonEl.style.display =\n",
              "          google.colab.kernel.accessAllowed ? 'block' : 'none';\n",
              "\n",
              "        async function convertToInteractive(key) {\n",
              "          const element = document.querySelector('#df-82be0f17-b6e8-4ecd-8f1f-a5c1daecb3fa');\n",
              "          const dataTable =\n",
              "            await google.colab.kernel.invokeFunction('convertToInteractive',\n",
              "                                                     [key], {});\n",
              "          if (!dataTable) return;\n",
              "\n",
              "          const docLinkHtml = 'Like what you see? Visit the ' +\n",
              "            '<a target=\"_blank\" href=https://colab.research.google.com/notebooks/data_table.ipynb>data table notebook</a>'\n",
              "            + ' to learn more about interactive tables.';\n",
              "          element.innerHTML = '';\n",
              "          dataTable['output_type'] = 'display_data';\n",
              "          await google.colab.output.renderOutput(dataTable, element);\n",
              "          const docLink = document.createElement('div');\n",
              "          docLink.innerHTML = docLinkHtml;\n",
              "          element.appendChild(docLink);\n",
              "        }\n",
              "      </script>\n",
              "    </div>\n",
              "  </div>\n",
              "  "
            ]
          },
          "metadata": {},
          "execution_count": 34
        }
      ]
    },
    {
      "cell_type": "code",
      "source": [
        "blue_df = blue.drop(['title', 'categ', 'start'], axis = 1, inplace = False)\n",
        "blue_df.head(3)"
      ],
      "metadata": {
        "colab": {
          "base_uri": "https://localhost:8080/",
          "height": 237
        },
        "id": "I0EafpayYMVd",
        "outputId": "01e27dd2-b737-4249-ab56-79f3be31d0b7"
      },
      "execution_count": 35,
      "outputs": [
        {
          "output_type": "execute_result",
          "data": {
            "text/plain": [
              "   count   sadness     anger  topic__0  topic__1  topic__2  topic__3  \\\n",
              "0    267 -0.019507  0.021842         0         0         0         0   \n",
              "1    271  0.004787  0.022918         0         0         0         0   \n",
              "2    198  0.052524 -0.010585         0         0         0         0   \n",
              "\n",
              "   topic__4  topic__5  topic__6  ...  topic__20  topic__21  topic__22  \\\n",
              "0         0         0         0  ...          0          0          0   \n",
              "1         0         0         0  ...          0          0          0   \n",
              "2         0         0         0  ...          0          0          0   \n",
              "\n",
              "   topic__23  topic__24  topic__25  topic__26  topic__27  topic__28  topic__29  \n",
              "0          0          0          0          0          0          0          0  \n",
              "1          0          1          0          0          0          0          0  \n",
              "2          0          0          0          0          0          0          0  \n",
              "\n",
              "[3 rows x 33 columns]"
            ],
            "text/html": [
              "\n",
              "  <div id=\"df-d7ba683d-a413-4504-8703-f426ee08933b\">\n",
              "    <div class=\"colab-df-container\">\n",
              "      <div>\n",
              "<style scoped>\n",
              "    .dataframe tbody tr th:only-of-type {\n",
              "        vertical-align: middle;\n",
              "    }\n",
              "\n",
              "    .dataframe tbody tr th {\n",
              "        vertical-align: top;\n",
              "    }\n",
              "\n",
              "    .dataframe thead th {\n",
              "        text-align: right;\n",
              "    }\n",
              "</style>\n",
              "<table border=\"1\" class=\"dataframe\">\n",
              "  <thead>\n",
              "    <tr style=\"text-align: right;\">\n",
              "      <th></th>\n",
              "      <th>count</th>\n",
              "      <th>sadness</th>\n",
              "      <th>anger</th>\n",
              "      <th>topic__0</th>\n",
              "      <th>topic__1</th>\n",
              "      <th>topic__2</th>\n",
              "      <th>topic__3</th>\n",
              "      <th>topic__4</th>\n",
              "      <th>topic__5</th>\n",
              "      <th>topic__6</th>\n",
              "      <th>...</th>\n",
              "      <th>topic__20</th>\n",
              "      <th>topic__21</th>\n",
              "      <th>topic__22</th>\n",
              "      <th>topic__23</th>\n",
              "      <th>topic__24</th>\n",
              "      <th>topic__25</th>\n",
              "      <th>topic__26</th>\n",
              "      <th>topic__27</th>\n",
              "      <th>topic__28</th>\n",
              "      <th>topic__29</th>\n",
              "    </tr>\n",
              "  </thead>\n",
              "  <tbody>\n",
              "    <tr>\n",
              "      <th>0</th>\n",
              "      <td>267</td>\n",
              "      <td>-0.019507</td>\n",
              "      <td>0.021842</td>\n",
              "      <td>0</td>\n",
              "      <td>0</td>\n",
              "      <td>0</td>\n",
              "      <td>0</td>\n",
              "      <td>0</td>\n",
              "      <td>0</td>\n",
              "      <td>0</td>\n",
              "      <td>...</td>\n",
              "      <td>0</td>\n",
              "      <td>0</td>\n",
              "      <td>0</td>\n",
              "      <td>0</td>\n",
              "      <td>0</td>\n",
              "      <td>0</td>\n",
              "      <td>0</td>\n",
              "      <td>0</td>\n",
              "      <td>0</td>\n",
              "      <td>0</td>\n",
              "    </tr>\n",
              "    <tr>\n",
              "      <th>1</th>\n",
              "      <td>271</td>\n",
              "      <td>0.004787</td>\n",
              "      <td>0.022918</td>\n",
              "      <td>0</td>\n",
              "      <td>0</td>\n",
              "      <td>0</td>\n",
              "      <td>0</td>\n",
              "      <td>0</td>\n",
              "      <td>0</td>\n",
              "      <td>0</td>\n",
              "      <td>...</td>\n",
              "      <td>0</td>\n",
              "      <td>0</td>\n",
              "      <td>0</td>\n",
              "      <td>0</td>\n",
              "      <td>1</td>\n",
              "      <td>0</td>\n",
              "      <td>0</td>\n",
              "      <td>0</td>\n",
              "      <td>0</td>\n",
              "      <td>0</td>\n",
              "    </tr>\n",
              "    <tr>\n",
              "      <th>2</th>\n",
              "      <td>198</td>\n",
              "      <td>0.052524</td>\n",
              "      <td>-0.010585</td>\n",
              "      <td>0</td>\n",
              "      <td>0</td>\n",
              "      <td>0</td>\n",
              "      <td>0</td>\n",
              "      <td>0</td>\n",
              "      <td>0</td>\n",
              "      <td>0</td>\n",
              "      <td>...</td>\n",
              "      <td>0</td>\n",
              "      <td>0</td>\n",
              "      <td>0</td>\n",
              "      <td>0</td>\n",
              "      <td>0</td>\n",
              "      <td>0</td>\n",
              "      <td>0</td>\n",
              "      <td>0</td>\n",
              "      <td>0</td>\n",
              "      <td>0</td>\n",
              "    </tr>\n",
              "  </tbody>\n",
              "</table>\n",
              "<p>3 rows × 33 columns</p>\n",
              "</div>\n",
              "      <button class=\"colab-df-convert\" onclick=\"convertToInteractive('df-d7ba683d-a413-4504-8703-f426ee08933b')\"\n",
              "              title=\"Convert this dataframe to an interactive table.\"\n",
              "              style=\"display:none;\">\n",
              "        \n",
              "  <svg xmlns=\"http://www.w3.org/2000/svg\" height=\"24px\"viewBox=\"0 0 24 24\"\n",
              "       width=\"24px\">\n",
              "    <path d=\"M0 0h24v24H0V0z\" fill=\"none\"/>\n",
              "    <path d=\"M18.56 5.44l.94 2.06.94-2.06 2.06-.94-2.06-.94-.94-2.06-.94 2.06-2.06.94zm-11 1L8.5 8.5l.94-2.06 2.06-.94-2.06-.94L8.5 2.5l-.94 2.06-2.06.94zm10 10l.94 2.06.94-2.06 2.06-.94-2.06-.94-.94-2.06-.94 2.06-2.06.94z\"/><path d=\"M17.41 7.96l-1.37-1.37c-.4-.4-.92-.59-1.43-.59-.52 0-1.04.2-1.43.59L10.3 9.45l-7.72 7.72c-.78.78-.78 2.05 0 2.83L4 21.41c.39.39.9.59 1.41.59.51 0 1.02-.2 1.41-.59l7.78-7.78 2.81-2.81c.8-.78.8-2.07 0-2.86zM5.41 20L4 18.59l7.72-7.72 1.47 1.35L5.41 20z\"/>\n",
              "  </svg>\n",
              "      </button>\n",
              "      \n",
              "  <style>\n",
              "    .colab-df-container {\n",
              "      display:flex;\n",
              "      flex-wrap:wrap;\n",
              "      gap: 12px;\n",
              "    }\n",
              "\n",
              "    .colab-df-convert {\n",
              "      background-color: #E8F0FE;\n",
              "      border: none;\n",
              "      border-radius: 50%;\n",
              "      cursor: pointer;\n",
              "      display: none;\n",
              "      fill: #1967D2;\n",
              "      height: 32px;\n",
              "      padding: 0 0 0 0;\n",
              "      width: 32px;\n",
              "    }\n",
              "\n",
              "    .colab-df-convert:hover {\n",
              "      background-color: #E2EBFA;\n",
              "      box-shadow: 0px 1px 2px rgba(60, 64, 67, 0.3), 0px 1px 3px 1px rgba(60, 64, 67, 0.15);\n",
              "      fill: #174EA6;\n",
              "    }\n",
              "\n",
              "    [theme=dark] .colab-df-convert {\n",
              "      background-color: #3B4455;\n",
              "      fill: #D2E3FC;\n",
              "    }\n",
              "\n",
              "    [theme=dark] .colab-df-convert:hover {\n",
              "      background-color: #434B5C;\n",
              "      box-shadow: 0px 1px 3px 1px rgba(0, 0, 0, 0.15);\n",
              "      filter: drop-shadow(0px 1px 2px rgba(0, 0, 0, 0.3));\n",
              "      fill: #FFFFFF;\n",
              "    }\n",
              "  </style>\n",
              "\n",
              "      <script>\n",
              "        const buttonEl =\n",
              "          document.querySelector('#df-d7ba683d-a413-4504-8703-f426ee08933b button.colab-df-convert');\n",
              "        buttonEl.style.display =\n",
              "          google.colab.kernel.accessAllowed ? 'block' : 'none';\n",
              "\n",
              "        async function convertToInteractive(key) {\n",
              "          const element = document.querySelector('#df-d7ba683d-a413-4504-8703-f426ee08933b');\n",
              "          const dataTable =\n",
              "            await google.colab.kernel.invokeFunction('convertToInteractive',\n",
              "                                                     [key], {});\n",
              "          if (!dataTable) return;\n",
              "\n",
              "          const docLinkHtml = 'Like what you see? Visit the ' +\n",
              "            '<a target=\"_blank\" href=https://colab.research.google.com/notebooks/data_table.ipynb>data table notebook</a>'\n",
              "            + ' to learn more about interactive tables.';\n",
              "          element.innerHTML = '';\n",
              "          dataTable['output_type'] = 'display_data';\n",
              "          await google.colab.output.renderOutput(dataTable, element);\n",
              "          const docLink = document.createElement('div');\n",
              "          docLink.innerHTML = docLinkHtml;\n",
              "          element.appendChild(docLink);\n",
              "        }\n",
              "      </script>\n",
              "    </div>\n",
              "  </div>\n",
              "  "
            ]
          },
          "metadata": {},
          "execution_count": 35
        }
      ]
    },
    {
      "cell_type": "code",
      "source": [
        "print('데이터 세트의 Shape:', blue_df.shape)\n",
        "print('\\n전체 feature 들의 type \\n', blue_df.dtypes.value_counts())\n",
        "isnull_series = blue_df.isnull().sum()\n",
        "print('\\nNull 컬럼과 그 건수: \\n', isnull_series[isnull_series > 0].sort_values(ascending = False))"
      ],
      "metadata": {
        "colab": {
          "base_uri": "https://localhost:8080/"
        },
        "id": "ZXs3gqreObyV",
        "outputId": "4eb15153-a16b-4e49-a354-a945d52679ca"
      },
      "execution_count": 36,
      "outputs": [
        {
          "output_type": "stream",
          "name": "stdout",
          "text": [
            "데이터 세트의 Shape: (15306, 33)\n",
            "\n",
            "전체 feature 들의 type \n",
            " int64      31\n",
            "float64     2\n",
            "dtype: int64\n",
            "\n",
            "Null 컬럼과 그 건수: \n",
            " Series([], dtype: int64)\n"
          ]
        }
      ]
    },
    {
      "cell_type": "code",
      "source": [
        "plt.title('Count Histogram')\n",
        "sns.distplot(blue_df['count'])"
      ],
      "metadata": {
        "colab": {
          "base_uri": "https://localhost:8080/",
          "height": 369
        },
        "id": "CI6ExsibNoI_",
        "outputId": "392ebe0f-5a4c-4fc3-e960-0380466f56f3"
      },
      "execution_count": 37,
      "outputs": [
        {
          "output_type": "stream",
          "name": "stderr",
          "text": [
            "/usr/local/lib/python3.7/dist-packages/seaborn/distributions.py:2619: FutureWarning: `distplot` is a deprecated function and will be removed in a future version. Please adapt your code to use either `displot` (a figure-level function with similar flexibility) or `histplot` (an axes-level function for histograms).\n",
            "  warnings.warn(msg, FutureWarning)\n"
          ]
        },
        {
          "output_type": "execute_result",
          "data": {
            "text/plain": [
              "<matplotlib.axes._subplots.AxesSubplot at 0x7fa97561acd0>"
            ]
          },
          "metadata": {},
          "execution_count": 37
        },
        {
          "output_type": "display_data",
          "data": {
            "text/plain": [
              "<Figure size 432x288 with 1 Axes>"
            ],
            "image/png": "[encoded data removed]"
          },
          "metadata": {
            "needs_background": "light"
          }
        }
      ]
    },
    {
      "cell_type": "code",
      "source": [
        "plt.title('Log Transformed Count Histogram')\n",
        "log_count = np.log1p(blue_df['count'])\n",
        "sns.distplot(log_count)"
      ],
      "metadata": {
        "colab": {
          "base_uri": "https://localhost:8080/",
          "height": 369
        },
        "id": "7z7GydRjOEQg",
        "outputId": "6b2df522-c130-4533-cb3a-67969475ff59"
      },
      "execution_count": 38,
      "outputs": [
        {
          "output_type": "stream",
          "name": "stderr",
          "text": [
            "/usr/local/lib/python3.7/dist-packages/seaborn/distributions.py:2619: FutureWarning: `distplot` is a deprecated function and will be removed in a future version. Please adapt your code to use either `displot` (a figure-level function with similar flexibility) or `histplot` (an axes-level function for histograms).\n",
            "  warnings.warn(msg, FutureWarning)\n"
          ]
        },
        {
          "output_type": "execute_result",
          "data": {
            "text/plain": [
              "<matplotlib.axes._subplots.AxesSubplot at 0x7fa975453650>"
            ]
          },
          "metadata": {},
          "execution_count": 38
        },
        {
          "output_type": "display_data",
          "data": {
            "text/plain": [
              "<Figure size 432x288 with 1 Axes>"
            ],
            "image/png": "[encoded data removed]"
          },
          "metadata": {
            "needs_background": "light"
          }
        }
      ]
    },
    {
      "cell_type": "code",
      "source": [
        "y = log_count\n",
        "X = blue_df.drop(['count'], axis = 1, inplace = False)\n",
        "\n",
        "model1 = sm.OLS(y, X)\n",
        "result1 = model1.fit()\n",
        "print(result1.summary())"
      ],
      "metadata": {
        "colab": {
          "base_uri": "https://localhost:8080/"
        },
        "id": "0PgDX8WWUBhW",
        "outputId": "239d04c5-3ba1-425e-8278-252a29689f47"
      },
      "execution_count": 39,
      "outputs": [
        {
          "output_type": "stream",
          "name": "stdout",
          "text": [
            "                            OLS Regression Results                            \n",
            "==============================================================================\n",
            "Dep. Variable:                  count   R-squared:                       0.136\n",
            "Model:                            OLS   Adj. R-squared:                  0.134\n",
            "Method:                 Least Squares   F-statistic:                     77.72\n",
            "Date:                Mon, 22 Aug 2022   Prob (F-statistic):               0.00\n",
            "Time:                        03:53:22   Log-Likelihood:                -26533.\n",
            "No. Observations:               15306   AIC:                         5.313e+04\n",
            "Df Residuals:                   15274   BIC:                         5.337e+04\n",
            "Df Model:                          31                                         \n",
            "Covariance Type:            nonrobust                                         \n",
            "==============================================================================\n",
            "                 coef    std err          t      P>|t|      [0.025      0.975]\n",
            "------------------------------------------------------------------------------\n",
            "sadness       -1.2426      0.251     -4.946      0.000      -1.735      -0.750\n",
            "anger          5.8206      0.304     19.175      0.000       5.226       6.416\n",
            "topic__0       6.2690      0.058    108.893      0.000       6.156       6.382\n",
            "topic__1       7.4031      0.051    146.551      0.000       7.304       7.502\n",
            "topic__2       6.8840      0.061    113.472      0.000       6.765       7.003\n",
            "topic__3       6.8438      0.133     51.471      0.000       6.583       7.104\n",
            "topic__4       6.9590      0.051    137.065      0.000       6.859       7.058\n",
            "topic__5       6.0800      0.093     65.411      0.000       5.898       6.262\n",
            "topic__6       6.7028      0.061    109.304      0.000       6.583       6.823\n",
            "topic__7       6.8548      0.072     94.707      0.000       6.713       6.997\n",
            "topic__8       6.9631      0.110     63.219      0.000       6.747       7.179\n",
            "topic__9       7.2931      0.099     73.822      0.000       7.099       7.487\n",
            "topic__10      6.7666      0.035    190.647      0.000       6.697       6.836\n",
            "topic__11      6.1487      0.061    101.631      0.000       6.030       6.267\n",
            "topic__12      7.0160      0.132     53.213      0.000       6.758       7.274\n",
            "topic__13      6.7097      0.079     85.105      0.000       6.555       6.864\n",
            "topic__14      7.3283      0.082     89.547      0.000       7.168       7.489\n",
            "topic__15      7.0842      0.067    104.972      0.000       6.952       7.216\n",
            "topic__16      6.6613      0.074     89.515      0.000       6.515       6.807\n",
            "topic__17      6.8674      0.052    131.160      0.000       6.765       6.970\n",
            "topic__18      6.5658      0.068     95.977      0.000       6.432       6.700\n",
            "topic__19      8.2133      0.136     60.487      0.000       7.947       8.479\n",
            "topic__20      6.6092      0.056    117.769      0.000       6.499       6.719\n",
            "topic__21      6.3492      0.081     78.754      0.000       6.191       6.507\n",
            "topic__22      6.4441      0.052    124.261      0.000       6.342       6.546\n",
            "topic__23      6.1462      0.048    126.844      0.000       6.051       6.241\n",
            "topic__24      6.7530      0.054    125.407      0.000       6.647       6.859\n",
            "topic__25      6.3548      0.054    118.713      0.000       6.250       6.460\n",
            "topic__26      6.6744      0.061    110.045      0.000       6.555       6.793\n",
            "topic__27      6.6205      0.134     49.537      0.000       6.359       6.882\n",
            "topic__28      6.2940      0.115     54.795      0.000       6.069       6.519\n",
            "topic__29      6.8551      0.066    104.051      0.000       6.726       6.984\n",
            "==============================================================================\n",
            "Omnibus:                     2509.253   Durbin-Watson:                   1.691\n",
            "Prob(Omnibus):                  0.000   Jarque-Bera (JB):             4388.381\n",
            "Skew:                           1.065   Prob(JB):                         0.00\n",
            "Kurtosis:                       4.532   Cond. No.                         11.0\n",
            "==============================================================================\n",
            "\n",
            "Notes:\n",
            "[1] Standard Errors assume that the covariance matrix of the errors is correctly specified.\n"
          ]
        }
      ]
    },
    {
      "cell_type": "code",
      "source": [
        "corr = X.corr()\n",
        "plt.figure(figsize = (3,3))\n",
        "sns.heatmap(corr, annot = True, fmt='.1g')"
      ],
      "metadata": {
        "colab": {
          "base_uri": "https://localhost:8080/",
          "height": 270
        },
        "id": "t53QQ1arRq_H",
        "outputId": "1003518e-0e7b-4f04-9ce3-d2e4d288f0aa"
      },
      "execution_count": 40,
      "outputs": [
        {
          "output_type": "execute_result",
          "data": {
            "text/plain": [
              "<matplotlib.axes._subplots.AxesSubplot at 0x7fa97536ab10>"
            ]
          },
          "metadata": {},
          "execution_count": 40
        },
        {
          "output_type": "display_data",
          "data": {
            "text/plain": [
              "<Figure size 216x216 with 2 Axes>"
            ],
            "image/png": "[encoded data removed]"
          },
          "metadata": {
            "needs_background": "light"
          }
        }
      ]
    },
    {
      "cell_type": "code",
      "source": [
        "fitted_multi_model.resid.plot()"
      ],
      "metadata": {
        "colab": {
          "base_uri": "https://localhost:8080/",
          "height": 283
        },
        "id": "XDkZE7NIIi6v",
        "outputId": "27f7cb2c-4230-4c35-d4ed-3e33d626838f"
      },
      "execution_count": 41,
      "outputs": [
        {
          "output_type": "execute_result",
          "data": {
            "text/plain": [
              "<matplotlib.axes._subplots.AxesSubplot at 0x7fa974ad3890>"
            ]
          },
          "metadata": {},
          "execution_count": 41
        },
        {
          "output_type": "display_data",
          "data": {
            "text/plain": [
              "<Figure size 432x288 with 1 Axes>"
            ],
            "image/png": "[encoded data removed]"
          },
          "metadata": {
            "needs_background": "light"
          }
        }
      ]
    }
  ]
}